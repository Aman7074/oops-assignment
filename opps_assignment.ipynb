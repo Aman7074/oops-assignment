{
  "nbformat": 4,
  "nbformat_minor": 0,
  "metadata": {
    "colab": {
      "provenance": []
    },
    "kernelspec": {
      "name": "python3",
      "display_name": "Python 3"
    },
    "language_info": {
      "name": "python"
    }
  },
  "cells": [
    {
      "cell_type": "markdown",
      "source": [
        "# THEORY QUESTIONS\n"
      ],
      "metadata": {
        "id": "AA7CGCA_GKoP"
      }
    },
    {
      "cell_type": "markdown",
      "source": [
        "Qn 1- What is Object-Oriented Programming.\n",
        "\n",
        "Ans- Object-Oriented Programming (OOP) is a programming paradigm based on the concept of objects, which are instances of classes. It is designed to organize and structure code in a way that models real-world entities, making it easier to maintain, scale, and reuse."
      ],
      "metadata": {
        "id": "r_UnvNVEGfV0"
      }
    },
    {
      "cell_type": "markdown",
      "source": [
        "Qn 2- H What is a class in OOP?\n",
        "\n",
        "Ans- A class in  OOP is a blueprint or template for creating objects. It defines the attributes (data/properties) and methods (functions/behaviors) that the objects created from the class will have."
      ],
      "metadata": {
        "id": "THYqcOB7INje"
      }
    },
    {
      "cell_type": "markdown",
      "source": [
        "Qn 3- What is an object in OOP?\n",
        "\n",
        "Ans- An object in Object-Oriented Programming (OOP) is an instance of a class. It represents a real-world entity with attributes (data) and methods (behavior) that define how it interacts with other objects.\n",
        "\n",
        " a class as a blueprint and an object as a house built from that blueprint. Each house (object) can have different colors, sizes, and features, but they all follow the same blueprint (class)."
      ],
      "metadata": {
        "id": "XZKIqFElI9P-"
      }
    },
    {
      "cell_type": "markdown",
      "source": [
        "Qn 4- What is the difference between abstraction and encapsulation?\n",
        "\n",
        "Ans-\n",
        "\n",
        "* Abstraction (Hiding Complexity)\n",
        "\n",
        "Abstraction is about designing a system in such a way that only relevant details are exposed to the user while hiding unnecessary implementation details.\n",
        "This allows users to interact with an object without needing to know its internal workings.\n",
        "\n",
        "+ Encapsulation (Hiding Data for Security)\n",
        "\n",
        "Encapsulation is the technique of binding data (variables) and methods (functions) together in a class and restricting direct access to the internal data.\n",
        "This prevents accidental modification of data and ensures it is only changed in controlled ways"
      ],
      "metadata": {
        "id": "rCTILRnpL065"
      }
    },
    {
      "cell_type": "markdown",
      "source": [
        "Qn 5- What are dunder methods in Python?\n",
        "\n",
        "Ans- Dunder methods, also called magic methods or special methods, are built-in methods in Python that have double underscores (__) at the beginning and end of their names. These methods allow objects to interact with built-in Python operations like arithmetic, comparisons, and object representation."
      ],
      "metadata": {
        "id": "L3ChLtFjQm6q"
      }
    },
    {
      "cell_type": "markdown",
      "source": [
        "Qn 6- Explain the concept of inheritance in OOP?\n",
        "\n",
        "Ans-  Inheritance is a fundamental OOP concept where a class (child/subclass) derives properties and behaviors from another class (parent/superclass). This enables code reusability, hierarchical relationships, and polymorphism.\n",
        "\n",
        "\n",
        "A parent class has common traits (methods and attributes).\n",
        "\n",
        "A child class inherits those traits and can also add or modify them.\n"
      ],
      "metadata": {
        "id": "sHynVRs_RoD2"
      }
    },
    {
      "cell_type": "markdown",
      "source": [
        "Qn 7- What is polymorphism in OOP?\n",
        "\n",
        "Ans- Polymorphism means \"many forms\" and allows objects of different classes to be treated as objects of a common superclass. It enables the same interface (method name) to be used for different types of objects."
      ],
      "metadata": {
        "id": "LqnWIojVSa0H"
      }
    },
    {
      "cell_type": "markdown",
      "source": [
        "Qn 8-  How is encapsulation achieved in Python?\n",
        "\n",
        "Ans- Encapsulation is the process of hiding data within a class and restricting direct access to it. This is done using access modifiers (public, protected, private) and methods to control how data is accessed or modified.\n",
        "\n"
      ],
      "metadata": {
        "id": "NdsBuWxcTvFd"
      }
    },
    {
      "cell_type": "markdown",
      "source": [
        "Qn 9- What is a constructor in Python?\n",
        "\n",
        "Ans- A constructor is a special method in Python that is automatically called when an object is created. It is used to initialize attributes of a class."
      ],
      "metadata": {
        "id": "q4YRis5_Ug3L"
      }
    },
    {
      "cell_type": "markdown",
      "source": [
        "Qn 10- What are class and static methods in Python?\n",
        "\n",
        "Ans-\n",
        "\n",
        "* Class Methods :-\n",
        "\n",
        " A class method works on the class level rather than the instance level. It is defined using the @classmethod decorator and takes cls as its first parameter (instead of self).\n",
        "\n",
        "Features :-\n",
        "\n",
        "Works on the class itself, not instance objects.\n",
        "\n",
        "Can modify class variables.\n",
        "\n",
        "Can be called using the class name or an instance.\n",
        "\n",
        "* Static Methods :-\n",
        "\n",
        "A static method is a regular function inside a class. It does not modify instance or class variables. It is defined using the @staticmethod decorator and does not take self or cls as a parameter.\n",
        "\n",
        " Features :-\n",
        "\n",
        "Does not depend on instance (self) or class (cls).\n",
        "\n",
        "Acts as a utility function inside a class.\n",
        "\n",
        "Can be called using the class name or an instance.\n"
      ],
      "metadata": {
        "id": "RZ11UIxQNjKh"
      }
    },
    {
      "cell_type": "markdown",
      "source": [
        "Qn 11- What is method overloading in Python?\n",
        "\n",
        "Ans- Method overloading allows multiple methods in a class to have the same name but different parameters. It is a common feature in languages like Java and C++. However, Python does not support method overloading in the traditional sense because functions in Python cannot have multiple definitions with different signatures."
      ],
      "metadata": {
        "id": "wsEDUJ6PSnwS"
      }
    },
    {
      "cell_type": "markdown",
      "source": [
        "Qn 12- What is method overriding in OOP?\n",
        "\n",
        "Ans- Method overriding is a feature in Object-Oriented Programming (OOP) where a subclass provides a specific implementation of a method that is already defined in its parent class. The overridden method in the subclass must have the same name, return type, and parameters as the method in the parent class.\n",
        "\n"
      ],
      "metadata": {
        "id": "QzD6-xVUTo8f"
      }
    },
    {
      "cell_type": "markdown",
      "source": [
        "Qn 13- What is a property decorator in Python?\n",
        "\n",
        "Ans- The property decorator (@property) in Python is used to define getter, setter, and deleter methods in a class while allowing access to attributes like regular variables. It helps in encapsulation by controlling how class attributes are accessed and modified.\n"
      ],
      "metadata": {
        "id": "BKUK6OyXU1R_"
      }
    },
    {
      "cell_type": "markdown",
      "source": [
        "Qn 14- Why is polymorphism important in OOP?\n",
        "\n",
        "Ans- Polymorphism is a key concept in Object-Oriented Programming (OOP) that allows different classes to be treated as instances of the same superclass. It enables a common interface for multiple data types, making code more flexible, reusable, and scalable."
      ],
      "metadata": {
        "id": "NvIDMim4VvmH"
      }
    },
    {
      "cell_type": "markdown",
      "source": [
        "Qn 15- What is an abstract class in Python?\n",
        "\n",
        "Ans- An abstract class in Python is a class that cannot be instantiated and is meant to be inherited by other classes. It defines a blueprint for subclasses by specifying methods that must be implemented in child classes.\n",
        "\n",
        "Python provides abstract classes using the ABC (Abstract Base Class) module.\n"
      ],
      "metadata": {
        "id": "Ah05nWGBXcXb"
      }
    },
    {
      "cell_type": "markdown",
      "source": [
        "Qn 16- What are the advantages of OOP?\n",
        "\n",
        "Ans-\n",
        "* Advantages of Object-Oriented Programming (OOP)\n",
        "\n",
        "OOP reduces code duplication by allowing classes to inherit properties and behaviors from other classes.\n",
        "This promotes code reuse, saving development time.\n"
      ],
      "metadata": {
        "id": "carBjTuQcIF7"
      }
    },
    {
      "cell_type": "markdown",
      "source": [
        "Qn 17-  What is the difference between a class variable and an instance variable?\n",
        "\n",
        "Ans- Class Variable :-\n",
        "\n",
        " Shared across all instances of the class.\n",
        "\n",
        " Defined inside the class but outside any method.\n",
        "\n",
        " Accessed using ClassName.variable_name or self.variable_name.\n",
        "\n",
        " Changing the value of a class variable affects all instances.\n",
        "\n",
        "* Instance Variable\n",
        "\n",
        " Unique to each instance of the class.\n",
        "\n",
        " Defined inside the __init__() method using self.\n",
        "\n",
        " Changing an instance variable only affects that specific object.\n"
      ],
      "metadata": {
        "id": "REDz_wWydukj"
      }
    },
    {
      "cell_type": "markdown",
      "source": [
        "Qn 18- What is multiple inheritance in Python?\n",
        "\n",
        "Ans-Multiple inheritance is a feature in Object-Oriented Programming (OOP) where a class can inherit from more than one parent class. This allows a child class to inherit attributes and methods from multiple base classes.\n",
        "\n"
      ],
      "metadata": {
        "id": "_oVfP_MDHeRe"
      }
    },
    {
      "cell_type": "markdown",
      "source": [
        "Qn 19- Explain the purpose of ‘’__str__’ and ‘__repr__’ ‘ methods in Python ?\n",
        "\n",
        "Ans-\n",
        " __str__ (User-Friendly String Representation) -\n",
        "\n",
        " Purpose: Provides a human-readable string representation of an object.\n",
        "\n",
        " Usage: Called by str(object) or print(object).\n",
        "\n",
        " Goal: Easy for end-users to understand.\n",
        "\n",
        "  __repr__ (Developer-Friendly Representation) -\n",
        "\n",
        " Purpose: Provides an unambiguous string representation, useful for debugging.\n",
        "\n",
        " Usage: Called by repr(object) or when inspecting objects in the console.\n",
        "\n",
        " Goal: Should return a string that, when passed to eval(), can recreate the object."
      ],
      "metadata": {
        "id": "R07xsUX8KKWx"
      }
    },
    {
      "cell_type": "markdown",
      "source": [
        "Qn 20- What is the significance of the ‘super()’ function in Python?\n",
        "\n",
        "Ans- The super() function is used in object-oriented programming (OOP) to call a method from a parent (super) class inside a child (sub) class. It is primarily used in inheritance to avoid explicitly referring to the parent class, making code more maintainable and flexible.\n",
        "\n"
      ],
      "metadata": {
        "id": "vCJJtfk7MEn1"
      }
    },
    {
      "cell_type": "markdown",
      "source": [
        "Qn 21- What is the significance of the __del__ method in Python?\n",
        "\n",
        "Ans- The __del__ method in Python is called the destructor. It is used to clean up resources when an object is about to be destroyed."
      ],
      "metadata": {
        "id": "jPEgyumeMnNI"
      }
    },
    {
      "cell_type": "markdown",
      "source": [
        "Qn 22- What is the difference between @staticmethod and @classmethod in Python?\n",
        "\n",
        "Ans-\n",
        "*  @staticmethod (Independent Utility Function)-\n",
        "\n",
        " Does NOT access class (cls) or instance (self) attributes.\n",
        "\n",
        " Used when a method does not modify class or instance state.\n",
        "\n",
        " Acts like a regular function inside a class but is grouped logically.\n",
        "\n",
        " * @classmethod (Class-Level Method)-\n",
        "\n",
        " Takes cls as the first parameter (represents the class itself).\n",
        "\n",
        " Can modify class variables but not instance variables.\n",
        "\n",
        " Used when you need to manipulate class-level data."
      ],
      "metadata": {
        "id": "LOtxJeo6M8vy"
      }
    },
    {
      "cell_type": "markdown",
      "source": [
        "Qn 23- How does polymorphism work in Python with inheritance?\n",
        "\n",
        "Ans- Polymorphism is a key concept in Object-Oriented Programming (OOP) that allows different classes to use the same method name but have different implementations. In Python, polymorphism works seamlessly with inheritance by enabling method overriding and dynamic method resolution."
      ],
      "metadata": {
        "id": "P4BZxO1PPXk9"
      }
    },
    {
      "cell_type": "markdown",
      "source": [
        "Qn 24- What is method chaining in Python OOP?\n",
        "\n",
        "Ans- Method chaining is a technique in Object-Oriented Programming (OOP) where multiple methods are called on the same object in a single line, improving readability and reducing redundant code.\n",
        "\n"
      ],
      "metadata": {
        "id": "9M8vtyFePyVT"
      }
    },
    {
      "cell_type": "markdown",
      "source": [
        "Qn-25  What is the purpose of the __call__ method in Python?\n",
        "\n",
        "Ans- The __call__ method in Python allows an instance of a class to be called like a function. This makes objects behave like functions while still retaining their state and attributes."
      ],
      "metadata": {
        "id": "AGMifOeLQpOP"
      }
    },
    {
      "cell_type": "markdown",
      "source": [
        "## PRACTICAL QUESTIONS"
      ],
      "metadata": {
        "id": "AiIX7jnMQ7GD"
      }
    },
    {
      "cell_type": "markdown",
      "source": [
        "Qn 1- Create a parent class Animal with a method speak() that prints a generic message. Create a child class Dog\n",
        "that overrides the speak() method to print \"Bark!\"."
      ],
      "metadata": {
        "id": "rDiV8p0ARHgE"
      }
    },
    {
      "cell_type": "code",
      "source": [
        "# Answer 1\n",
        "\n",
        "class Animal:\n",
        "    def speak(self):\n",
        "        print(\"animal makes a sound.\")\n",
        "\n",
        "class Dog(Animal):  # Child class inheriting from Animal\n",
        "    def speak(self):  # Overriding the speak() method\n",
        "        print(\"Bark!\")\n",
        "\n",
        "# Creating instances\n",
        "generic_animal = Animal()\n",
        "generic_animal.speak()\n",
        "\n",
        "dog = Dog()\n",
        "dog.speak()\n"
      ],
      "metadata": {
        "colab": {
          "base_uri": "https://localhost:8080/"
        },
        "id": "kxxcJX1aSVNE",
        "outputId": "9460993d-2fc1-43e2-d55c-27a28f9d7879"
      },
      "execution_count": null,
      "outputs": [
        {
          "output_type": "stream",
          "name": "stdout",
          "text": [
            "animal makes a sound.\n",
            "Bark!\n"
          ]
        }
      ]
    },
    {
      "cell_type": "markdown",
      "source": [
        "Qn 2-  Write a program to create an abstract class Shape with a method area(). Derive classes Circle and Rectangle\n",
        "from it and implement the area() method in both."
      ],
      "metadata": {
        "id": "LEsjU4YdTk9P"
      }
    },
    {
      "cell_type": "code",
      "source": [
        "# Answer 2\n",
        "\n",
        "from abc import ABC, abstractmethod\n",
        "\n",
        "# Abstract class\n",
        "class Shape(ABC):\n",
        "    @abstractmethod\n",
        "    def area(self):\n",
        "        pass  # Force subclasses to implement this method\n",
        "\n",
        "# Derived Circle class\n",
        "class Circle(Shape):\n",
        "    def __init__(self, radius):\n",
        "        self.radius = radius\n",
        "\n",
        "    def area(self):\n",
        "        return 3.14 * self.radius ** 2  # πr²\n",
        "\n",
        "# Derived Rectangle class\n",
        "class Rectangle(Shape):\n",
        "    def __init__(self, width, height):\n",
        "        self.width = width\n",
        "        self.height = height\n",
        "\n",
        "    def area(self):\n",
        "        return self.width * self.height  # w × h\n",
        "\n",
        "# Creating objects and calculating area\n",
        "circle = Circle(5)\n",
        "rectangle = Rectangle(4, 6)\n",
        "\n",
        "print(f\"Circle Area: {circle.area()}\")\n",
        "print(f\"Rectangle Area: {rectangle.area()}\")\n"
      ],
      "metadata": {
        "colab": {
          "base_uri": "https://localhost:8080/"
        },
        "id": "gPimzSDyTuEj",
        "outputId": "174cfb9b-7120-4b03-e114-c445925b6f2b"
      },
      "execution_count": null,
      "outputs": [
        {
          "output_type": "stream",
          "name": "stdout",
          "text": [
            "Circle Area: 78.5\n",
            "Rectangle Area: 24\n"
          ]
        }
      ]
    },
    {
      "cell_type": "markdown",
      "source": [
        "Qn 3- . Implement a multi-level inheritance scenario where a class Vehicle has an attribute type. Derive a class Car\n",
        "and further derive a class ElectricCar that adds a battery attribute."
      ],
      "metadata": {
        "id": "v89OHXKCUoz4"
      }
    },
    {
      "cell_type": "code",
      "source": [
        "# Answer 3\n",
        "\n",
        "# Base class\n",
        "class Vehicle:\n",
        "    def __init__(self, type):\n",
        "        self.type = type\n",
        "\n",
        "    def show_type(self):\n",
        "        print(f\"Vehicle Type: {self.type}\")\n",
        "\n",
        "# Intermediate class inheriting from Vehicle\n",
        "class Car(Vehicle):\n",
        "    def __init__(self, type, brand):\n",
        "        super().__init__(type)  # Call Vehicle's constructor\n",
        "        self.brand = brand\n",
        "\n",
        "    def show_brand(self):\n",
        "        print(f\"Car Brand: {self.brand}\")\n",
        "\n",
        "# Derived class inheriting from Car (Multi-level Inheritance)\n",
        "class ElectricCar(Car):\n",
        "    def __init__(self, type, brand, battery):\n",
        "        super().__init__(type, brand)  # Call Car's constructor\n",
        "        self.battery = battery\n",
        "\n",
        "    def show_battery(self):\n",
        "        print(f\"Battery Capacity: {self.battery} kWh\")\n",
        "\n",
        "# Creating an instance of ElectricCar\n",
        "tesla = ElectricCar(\"Sedan\", \"Tesla\", 75)\n",
        "\n",
        "# Accessing attributes and methods from all levels of the hierarchy\n",
        "tesla.show_type()\n",
        "tesla.show_brand()\n",
        "tesla.show_battery()\n"
      ],
      "metadata": {
        "colab": {
          "base_uri": "https://localhost:8080/"
        },
        "id": "0gYHO0g9U_lw",
        "outputId": "50057f85-7b9f-4713-ff5d-a5360091beff"
      },
      "execution_count": null,
      "outputs": [
        {
          "output_type": "stream",
          "name": "stdout",
          "text": [
            "Vehicle Type: Sedan\n",
            "Car Brand: Tesla\n",
            "Battery Capacity: 75 kWh\n"
          ]
        }
      ]
    },
    {
      "cell_type": "markdown",
      "source": [
        "Qn 4- Demonstrate polymorphism by creating a base class Bird with a method fly(). Create two derived classes\n",
        "Sparrow and Penguin that override the fly() method.\n"
      ],
      "metadata": {
        "id": "JbuKEqr2V1rE"
      }
    },
    {
      "cell_type": "code",
      "source": [
        "# Answer 4\n",
        "\n",
        "# Base class\n",
        "class Bird:\n",
        "    def fly(self):\n",
        "        print(\"Some birds can fly.\")\n",
        "\n",
        "# Derived class 1 - Sparrow\n",
        "class Sparrow(Bird):\n",
        "    def fly(self):\n",
        "        print(\"Sparrow flies high in the sky!\")\n",
        "\n",
        "# Derived class 2 - Penguin\n",
        "class Penguin(Bird):\n",
        "    def fly(self):\n",
        "        print(\"Penguins cannot fly, but they can swim well!\")\n",
        "\n",
        "# Function demonstrating polymorphism\n",
        "def bird_flight(bird):\n",
        "    bird.fly()  # Calls the overridden method dynamically\n",
        "\n",
        "# Creating objects\n",
        "sparrow = Sparrow()\n",
        "penguin = Penguin()\n",
        "\n",
        "# Using polymorphism\n",
        "bird_flight(sparrow)\n",
        "bird_flight(penguin)\n"
      ],
      "metadata": {
        "colab": {
          "base_uri": "https://localhost:8080/"
        },
        "id": "BOugDly1V9gC",
        "outputId": "b5b3e66d-3cb3-4b58-9d2e-820fa0f0b9fc"
      },
      "execution_count": null,
      "outputs": [
        {
          "output_type": "stream",
          "name": "stdout",
          "text": [
            "Sparrow flies high in the sky!\n",
            "Penguins cannot fly, but they can swim well!\n"
          ]
        }
      ]
    },
    {
      "cell_type": "markdown",
      "source": [
        "Qn 5-  Write a program to demonstrate encapsulation by creating a class BankAccount with private attributes\n",
        "balance and methods to deposit, withdraw, and check balance."
      ],
      "metadata": {
        "id": "h_UX6JleWyV1"
      }
    },
    {
      "cell_type": "code",
      "source": [
        "# Answer 5\n",
        "\n",
        "class BankAccount:\n",
        "    def __init__(self, account_holder, initial_balance=0):\n",
        "        self.account_holder = account_holder\n",
        "        self.__balance = initial_balance  # Private attribute\n",
        "\n",
        "    # Public method to deposit money\n",
        "    def deposit(self, amount):\n",
        "        if amount > 0:\n",
        "            self.__balance += amount\n",
        "            print(f\"Deposited ₹{amount}. New balance: ₹{self.__balance}\")\n",
        "        else:\n",
        "            print(\"Deposit amount must be positive.\")\n",
        "\n",
        "    # Public method to withdraw money\n",
        "    def withdraw(self, amount):\n",
        "        if 0 < amount <= self.__balance:\n",
        "            self.__balance -= amount\n",
        "            print(f\"Withdrew ₹{amount}. Remaining balance: ₹{self.__balance}\")\n",
        "        else:\n",
        "            print(\"Insufficient balance or invalid amount.\")\n",
        "\n",
        "    # Public method to check balance\n",
        "    def get_balance(self):\n",
        "        return self.__balance  # Controlled access to private attribute\n",
        "\n",
        "# Creating an account object\n",
        "account = BankAccount(\"Alice\", 1000)\n",
        "\n",
        "# Using encapsulated methods\n",
        "account.deposit(500)\n",
        "account.withdraw(200)\n",
        "print(f\"Balance: ₹{account.get_balance()}\")\n",
        "\n"
      ],
      "metadata": {
        "colab": {
          "base_uri": "https://localhost:8080/"
        },
        "id": "kryzdcmfW91_",
        "outputId": "0bdc5f9a-ff63-49e0-c27a-a5c2dcde12d0"
      },
      "execution_count": 19,
      "outputs": [
        {
          "output_type": "stream",
          "name": "stdout",
          "text": [
            "Deposited ₹500. New balance: ₹1500\n",
            "Withdrew ₹200. Remaining balance: ₹1300\n",
            "Balance: ₹1300\n"
          ]
        }
      ]
    },
    {
      "cell_type": "markdown",
      "source": [
        "Qn 6-  Demonstrate runtime polymorphism using a method play() in a base class Instrument. Derive classes Guitar\n",
        "and Piano that implement their own version of play().\n",
        "\n"
      ],
      "metadata": {
        "id": "ETPy8JqKZQjT"
      }
    },
    {
      "cell_type": "code",
      "source": [
        "# Answer 6\n",
        "\n",
        "# Base class\n",
        "class Instrument:\n",
        "    def play(self):\n",
        "        print(\"Playing an instrument.\")\n",
        "\n",
        "# Derived class 1 - Guitar\n",
        "class Guitar(Instrument):\n",
        "    def play(self):\n",
        "        print(\"Strumming the guitar!\")\n",
        "\n",
        "# Derived class 2 - Piano\n",
        "class Piano(Instrument):\n",
        "    def play(self):\n",
        "        print(\"Playing the piano keys!\")\n",
        "\n",
        "# Function demonstrating runtime polymorphism\n",
        "def play_instrument(instrument):\n",
        "    instrument.play()  # Calls the overridden method dynamically\n",
        "\n",
        "# Creating objects\n",
        "guitar = Guitar()\n",
        "piano = Piano()\n",
        "\n",
        "# Using polymorphism\n",
        "play_instrument(guitar)\n",
        "play_instrument(piano)\n"
      ],
      "metadata": {
        "colab": {
          "base_uri": "https://localhost:8080/"
        },
        "id": "pGUJhdOhZe8M",
        "outputId": "c6eb70ad-fe0e-4cc3-e4ce-3c2aab2f7e3b"
      },
      "execution_count": null,
      "outputs": [
        {
          "output_type": "stream",
          "name": "stdout",
          "text": [
            "Strumming the guitar!\n",
            "Playing the piano keys!\n"
          ]
        }
      ]
    },
    {
      "cell_type": "markdown",
      "source": [
        "Qn 7- Create a class MathOperations with a class method add_numbers() to add two numbers and a static\n",
        "method subtract_numbers() to subtract two numbers."
      ],
      "metadata": {
        "id": "EaPfBf30aNu0"
      }
    },
    {
      "cell_type": "code",
      "source": [
        "# Answer 7\n",
        "\n",
        "class MathOperations:\n",
        "    # Class method to add two numbers\n",
        "    @classmethod\n",
        "    def add_numbers(cls, a, b):\n",
        "        return a + b\n",
        "\n",
        "    # Static method to subtract two numbers\n",
        "    @staticmethod\n",
        "    def subtract_numbers(a, b):\n",
        "        return a - b\n",
        "\n",
        "# Using the class method\n",
        "sum_result = MathOperations.add_numbers(10, 5)\n",
        "print(f\"Sum: {sum_result}\")  # Output: Sum: 15\n",
        "\n",
        "# Using the static method\n",
        "difference = MathOperations.subtract_numbers(10, 5)\n",
        "print(f\"Difference: {difference}\")"
      ],
      "metadata": {
        "colab": {
          "base_uri": "https://localhost:8080/"
        },
        "id": "OaZY4q44adRk",
        "outputId": "251caf8e-5573-476b-dc5f-e96e031ca306"
      },
      "execution_count": null,
      "outputs": [
        {
          "output_type": "stream",
          "name": "stdout",
          "text": [
            "Sum: 15\n",
            "Difference: 5\n"
          ]
        }
      ]
    },
    {
      "cell_type": "markdown",
      "source": [
        "Qn 8-  Implement a class Person with a class method to count the total number of persons created.\n"
      ],
      "metadata": {
        "id": "BsKvCrmpbCdr"
      }
    },
    {
      "cell_type": "code",
      "source": [
        "# Answer 8\n",
        "\n",
        "class Person:\n",
        "    count = 0  # Class variable to store total person count\n",
        "\n",
        "    def __init__(self, name):\n",
        "        self.name = name\n",
        "        Person.count += 1  # Increment count when a new person is created\n",
        "\n",
        "    @classmethod\n",
        "    def total_persons(cls):\n",
        "        return cls.count  # Access the class variable using cls\n",
        "\n",
        "# Creating Person objects\n",
        "p1 = Person(\"Aman\")\n",
        "p2 = Person(\"Bobby\")\n",
        "p3 = Person(\"Rahul\")\n",
        "\n",
        "# Using the class method to get total persons created\n",
        "print(f\"Total persons created: {Person.total_persons()}\")\n"
      ],
      "metadata": {
        "colab": {
          "base_uri": "https://localhost:8080/"
        },
        "id": "wKwkCLNsbI9F",
        "outputId": "aaf574f3-1741-4ed1-8afb-5f9f91d7f648"
      },
      "execution_count": null,
      "outputs": [
        {
          "output_type": "stream",
          "name": "stdout",
          "text": [
            "Total persons created: 3\n"
          ]
        }
      ]
    },
    {
      "cell_type": "markdown",
      "source": [
        "Qn 9- Write a class Fraction with attributes numerator and denominator. Override the str method to display the\n",
        "fraction as \"numerator/denominator\"."
      ],
      "metadata": {
        "id": "pZHlDrDwbrdb"
      }
    },
    {
      "cell_type": "code",
      "source": [
        "# Answer 9\n",
        "\n",
        "class Fraction:\n",
        "    def __init__(self, numerator, denominator):\n",
        "        if denominator == 0:\n",
        "            raise ValueError(\"Denominator cannot be zero.\")  # Prevent division by zero\n",
        "        self.numerator = numerator\n",
        "        self.denominator = denominator\n",
        "\n",
        "    def __str__(self):\n",
        "        return f\"{self.numerator}/{self.denominator}\"  # Override str() method\n",
        "\n",
        "# Creating Fraction objects\n",
        "frac1 = Fraction(3, 4)\n",
        "frac2 = Fraction(5, 8)\n",
        "\n",
        "\n",
        "print(frac1)\n",
        "print(frac2)\n"
      ],
      "metadata": {
        "colab": {
          "base_uri": "https://localhost:8080/"
        },
        "id": "lgilvm4Hbz67",
        "outputId": "86b00801-2b1d-43ef-b3e1-23cfa145835f"
      },
      "execution_count": null,
      "outputs": [
        {
          "output_type": "stream",
          "name": "stdout",
          "text": [
            "3/4\n",
            "5/8\n"
          ]
        }
      ]
    },
    {
      "cell_type": "markdown",
      "source": [
        "Qn 10-  Demonstrate operator overloading by creating a class Vector and overriding the add method to add two\n",
        "vectors."
      ],
      "metadata": {
        "id": "MpNQkqKwcfL5"
      }
    },
    {
      "cell_type": "code",
      "source": [
        "# Answer 10\n",
        "\n",
        "class Vector:\n",
        "    def __init__(self, x, y):\n",
        "        self.x = x\n",
        "        self.y = y\n",
        "\n",
        "    def __add__(self, other):\n",
        "        if not isinstance(other, Vector):\n",
        "            return NotImplemented  # Ensures addition only works with Vector objects\n",
        "        return Vector(self.x + other.x, self.y + other.y)  # Add corresponding components\n",
        "\n",
        "    def __str__(self):\n",
        "        return f\"({self.x}, {self.y})\"\n",
        "\n",
        "# Creating vector objects\n",
        "v1 = Vector(2, 3)\n",
        "v2 = Vector(4, 5)\n",
        "\n",
        "# Adding vectors using overloaded +\n",
        "v3 = v1 + v2  # Equivalent to v1.__add__(v2)\n",
        "\n",
        "\n",
        "print(f\"v1: {v1}\")\n",
        "print(f\"v2: {v2}\")\n",
        "print(f\"v1 + v2 = {v3}\")\n"
      ],
      "metadata": {
        "colab": {
          "base_uri": "https://localhost:8080/"
        },
        "id": "1V39mT1HcU9M",
        "outputId": "00d496f4-468c-4628-9a03-0807ddf9a7c2"
      },
      "execution_count": null,
      "outputs": [
        {
          "output_type": "stream",
          "name": "stdout",
          "text": [
            "v1: (2, 3)\n",
            "v2: (4, 5)\n",
            "v1 + v2 = (6, 8)\n"
          ]
        }
      ]
    },
    {
      "cell_type": "markdown",
      "source": [
        "Qn 11-  Create a class Person with attributes name and age. Add a method greet() that prints \"Hello, my name is\n",
        "{name} and I am {age} years old.\n"
      ],
      "metadata": {
        "id": "y0kkJNLLHSDE"
      }
    },
    {
      "cell_type": "code",
      "source": [
        "# Answer 11\n",
        "\n",
        "class Person:\n",
        "    def __init__(self, name, age):\n",
        "        self.name = name\n",
        "        self.age = age\n",
        "\n",
        "    def greet(self):\n",
        "        print(f\"Hello, my name is {self.name} and I am {self.age} years old.\")\n",
        "\n",
        "# Creating Person objects\n",
        "person1 = Person(\"Aman\", 24)\n",
        "person2 = Person(\"Arun\", 24)\n",
        "\n",
        "# Calling the  method\n",
        "person1.greet()\n",
        "person2.greet()\n",
        "\n"
      ],
      "metadata": {
        "colab": {
          "base_uri": "https://localhost:8080/"
        },
        "id": "7MljXlERHhhv",
        "outputId": "d109c193-fe08-4461-e3b3-b12384ed3688"
      },
      "execution_count": null,
      "outputs": [
        {
          "output_type": "stream",
          "name": "stdout",
          "text": [
            "Hello, my name is Aman and I am 24 years old.\n",
            "Hello, my name is Arun and I am 24 years old.\n"
          ]
        }
      ]
    },
    {
      "cell_type": "markdown",
      "source": [
        "Qn 12- Implement a class Student with attributes name and grades. Create a method average_grade() to compute\n",
        "the average of the grades."
      ],
      "metadata": {
        "id": "x4zDHEZwOuab"
      }
    },
    {
      "cell_type": "code",
      "source": [
        "# Answer 12\n",
        "\n",
        "class Student:\n",
        "    def __init__(self, name, grades):\n",
        "        self.name = name\n",
        "        self.grades = grades  # List of grades\n",
        "\n",
        "    def average_grade(self):\n",
        "        if not self.grades:\n",
        "            return 0  # Return 0 if there are no grades to avoid division by zero\n",
        "        return sum(self.grades) / len(self.grades)\n",
        "\n",
        "# Creating Student objects\n",
        "student1 = Student(\"Aman\", [85, 90, 78, 92])\n",
        "student2 = Student(\"Sunil\", [88, 76, 95, 89, 90])\n",
        "\n",
        "# Calculating and printing average grades\n",
        "print(f\"{student1.name}'s average grade: {student1.average_grade():.2f}\")\n",
        "# Output: Alice's average grade: 86.25\n",
        "\n",
        "print(f\"{student2.name}'s average grade: {student2.average_grade():.2f}\")\n",
        "\n"
      ],
      "metadata": {
        "colab": {
          "base_uri": "https://localhost:8080/"
        },
        "id": "6o16wVoEPDeb",
        "outputId": "aa14b632-3fd7-4561-8307-3b1353de852b"
      },
      "execution_count": null,
      "outputs": [
        {
          "output_type": "stream",
          "name": "stdout",
          "text": [
            "Alice's average grade: 86.25\n",
            "Bob's average grade: 87.60\n"
          ]
        }
      ]
    },
    {
      "cell_type": "markdown",
      "source": [
        "Qn 13-  Create a class Rectangle with methods set_dimensions() to set the dimensions and area() to calculate the\n",
        "area.\n"
      ],
      "metadata": {
        "id": "1gM_kBm-PTYr"
      }
    },
    {
      "cell_type": "code",
      "source": [
        "# Answer 13\n",
        "\n",
        "\n",
        "class Rectangle:\n",
        "    def __init__(self, length=0, width=0):\n",
        "        self.length = length\n",
        "        self.width = width\n",
        "\n",
        "    def set_dimensions(self, length, width):\n",
        "        self.length = length\n",
        "        self.width = width\n",
        "\n",
        "    def area(self):\n",
        "        return self.length * self.width\n",
        "\n",
        "# Creating a Rectangle object\n",
        "rect = Rectangle()\n",
        "\n",
        "# Setting dimensions\n",
        "rect.set_dimensions(5, 10)\n",
        "\n",
        "\n",
        "print(f\"Rectangle Area: {rect.area()}\")\n"
      ],
      "metadata": {
        "colab": {
          "base_uri": "https://localhost:8080/"
        },
        "id": "j_9ivPZgPcMd",
        "outputId": "f1a5c804-c44f-42b1-c36d-7bfeab96ce4f"
      },
      "execution_count": null,
      "outputs": [
        {
          "output_type": "stream",
          "name": "stdout",
          "text": [
            "Rectangle Area: 50\n"
          ]
        }
      ]
    },
    {
      "cell_type": "markdown",
      "source": [
        "Qn 14-  Create a class Employee with a method calculate_salary() that computes the salary based on hours worked\n",
        "and hourly rate. Create a derived class Manager that adds a bonus to the salary."
      ],
      "metadata": {
        "id": "BkA8vFwOduMU"
      }
    },
    {
      "cell_type": "code",
      "source": [
        "# Answer 14\n",
        "\n",
        "class Employee:\n",
        "    def __init__(self, name, hours_worked, hourly_rate):\n",
        "        self.name = name\n",
        "        self.hours_worked = hours_worked\n",
        "        self.hourly_rate = hourly_rate\n",
        "\n",
        "    def calculate_salary(self):\n",
        "        return self.hours_worked * self.hourly_rate\n",
        "\n",
        "# Derived class Manager\n",
        "class Manager(Employee):\n",
        "    def __init__(self, name, hours_worked, hourly_rate, bonus):\n",
        "        super().__init__(name, hours_worked, hourly_rate)\n",
        "        self.bonus = bonus\n",
        "\n",
        "    def calculate_salary(self):\n",
        "        base_salary = super().calculate_salary()  # Call base class method\n",
        "        return base_salary + self.bonus  # Add bonus\n",
        "\n",
        "# Creating Employee and Manager objects\n",
        "emp = Employee(\"Aman\", 40, 20)\n",
        "mgr = Manager(\"Sunil\", 40, 30, 500)\n",
        "\n",
        "\n",
        "print(f\"{emp.name}'s Salary: ₹{emp.calculate_salary()}\")\n",
        "\n",
        "\n",
        "print(f\"{mgr.name}'s Salary: ₹{mgr.calculate_salary()}\")\n"
      ],
      "metadata": {
        "colab": {
          "base_uri": "https://localhost:8080/"
        },
        "id": "OF82qmaOd4Sr",
        "outputId": "1676c872-a2d9-46e8-a972-ea19a77b161a"
      },
      "execution_count": 8,
      "outputs": [
        {
          "output_type": "stream",
          "name": "stdout",
          "text": [
            "Aman's Salary: ₹800\n",
            "Sunil's Salary: ₹1700\n"
          ]
        }
      ]
    },
    {
      "cell_type": "markdown",
      "source": [
        "Qn 15-  Create a class Product with attributes name, price, and quantity. Implement a method total_price() that\n",
        "calculates the total price of the product."
      ],
      "metadata": {
        "id": "pQHGuvelgPha"
      }
    },
    {
      "cell_type": "code",
      "source": [
        "# Answer 15\n",
        "\n",
        "class Product:\n",
        "    def __init__(self, name, price, quantity):\n",
        "        self.name = name\n",
        "        self.price = price\n",
        "        self.quantity = quantity\n",
        "\n",
        "    def total_price(self):\n",
        "        return self.price * self.quantity  # Calculate total price\n",
        "\n",
        "# Creating Product objects\n",
        "product1 = Product(\"Laptop\", 10000, 9)\n",
        "product2 = Product(\"Phone\", 900, 9)\n",
        "\n",
        "# Calculating and printing total prices\n",
        "print(f\"Total price of {product1.name}: ₹{product1.total_price()}\")\n",
        "\n",
        "\n",
        "print(f\"Total price of {product2.name}: ₹{product2.total_price()}\")\n",
        "\n"
      ],
      "metadata": {
        "colab": {
          "base_uri": "https://localhost:8080/"
        },
        "id": "bI7Ga1y7gYXd",
        "outputId": "8b6d8d41-d5ce-498a-c423-cf06d984a5ce"
      },
      "execution_count": 15,
      "outputs": [
        {
          "output_type": "stream",
          "name": "stdout",
          "text": [
            "Total price of Laptop: ₹90000\n",
            "Total price of Phone: ₹8100\n"
          ]
        }
      ]
    },
    {
      "cell_type": "markdown",
      "source": [
        "Qn 16-  Create a class Animal with an abstract method sound(). Create two derived classes Cow and Sheep that\n",
        "implement the sound() method."
      ],
      "metadata": {
        "id": "3SMzaryGhBH4"
      }
    },
    {
      "cell_type": "code",
      "source": [
        "# Answer 16\n",
        "\n",
        "from abc import ABC, abstractmethod\n",
        "\n",
        "# Abstract class Animal\n",
        "class Animal(ABC):\n",
        "    @abstractmethod\n",
        "    def sound(self):\n",
        "        pass  # Abstract method, must be implemented by derived classes\n",
        "\n",
        "# Derived class Cow\n",
        "class Cow(Animal):\n",
        "    def sound(self):\n",
        "        return \"Moo!\"\n",
        "\n",
        "# Derived class Sheep\n",
        "class Sheep(Animal):\n",
        "    def sound(self):\n",
        "        return \"Baa!\"\n",
        "\n",
        "# Creating objects\n",
        "cow = Cow()\n",
        "sheep = Sheep()\n",
        "\n",
        "# Printing sounds\n",
        "print(f\"Cow says: {cow.sound()}\")\n",
        "print(f\"Sheep says: {sheep.sound()}\")\n"
      ],
      "metadata": {
        "colab": {
          "base_uri": "https://localhost:8080/"
        },
        "id": "otTpOp8oiG7_",
        "outputId": "b6992bef-8874-4360-e4cc-ad2445901e8d"
      },
      "execution_count": 16,
      "outputs": [
        {
          "output_type": "stream",
          "name": "stdout",
          "text": [
            "Cow says: Moo!\n",
            "Sheep says: Baa!\n"
          ]
        }
      ]
    },
    {
      "cell_type": "markdown",
      "source": [
        "Qn 17-  Create a class Book with attributes title, author, and year_published. Add a method get_book_info() that\n",
        "returns a formatted string with the book's details."
      ],
      "metadata": {
        "id": "CNe6foqpipOU"
      }
    },
    {
      "cell_type": "code",
      "source": [
        "# Answer 17\n",
        "\n",
        "class Book:\n",
        "    def __init__(self, title, author, year_published):\n",
        "        self.title = title\n",
        "        self.author = author\n",
        "        self.year_published = year_published\n",
        "\n",
        "    def get_book_info(self):\n",
        "        return f\"'{self.title}' by {self.author}, published in {self.year_published}.\"\n",
        "\n",
        "# Creating Book objects\n",
        "book1 = Book(\"To Kill a Mockingbird\", \"Harper Lee\", 1960)\n",
        "book2 = Book(\"1984\", \"George Orwell\", 1949)\n",
        "\n",
        "\n",
        "print(book1.get_book_info())\n",
        "\n",
        "print(book2.get_book_info())\n",
        "\n"
      ],
      "metadata": {
        "colab": {
          "base_uri": "https://localhost:8080/"
        },
        "id": "4277kfLDjAc7",
        "outputId": "785f445c-6d06-445e-d511-0247bebcf585"
      },
      "execution_count": 17,
      "outputs": [
        {
          "output_type": "stream",
          "name": "stdout",
          "text": [
            "'To Kill a Mockingbird' by Harper Lee, published in 1960.\n",
            "'1984' by George Orwell, published in 1949.\n"
          ]
        }
      ]
    },
    {
      "cell_type": "markdown",
      "source": [
        "Qn 18-  Create a class House with attributes address and price. Create a derived class Mansion that adds an\n",
        "attribute number_of_rooms."
      ],
      "metadata": {
        "id": "jat__CFljtED"
      }
    },
    {
      "cell_type": "code",
      "source": [
        "# Answer 18\n",
        "\n",
        "class Hcouse:\n",
        "    def __init__(self, address, price):\n",
        "        self.address = address\n",
        "        self.price = price\n",
        "\n",
        "    def get_info(self):\n",
        "        return f\"House located at {self.address}, priced at ₹{self.price}.\"\n",
        "\n",
        "# Derived class Mansion\n",
        "class Mansion(House):\n",
        "    def __init__(self, address, price, number_of_rooms):\n",
        "        super().__init__(address, price)  # Inheriting from House\n",
        "        self.number_of_rooms = number_of_rooms\n",
        "\n",
        "    def get_info(self):\n",
        "        return f\"Mansion located at {self.address}, priced at ₹{self.price}, with {self.number_of_rooms} rooms.\"\n",
        "\n",
        "# Creating objects\n",
        "house = House(\"123 Main St\", 250000)\n",
        "mansion = Mansion(\"456 Luxury Ave\", 2000000, 10)\n",
        "\n",
        "# Printing information\n",
        "print(house.get_info())\n",
        "\n",
        "\n",
        "print(mansion.get_info())\n",
        "\n"
      ],
      "metadata": {
        "colab": {
          "base_uri": "https://localhost:8080/"
        },
        "id": "OICtwhMNj0P-",
        "outputId": "a00dd64f-98a6-49d3-d937-d309a76aa63b"
      },
      "execution_count": 18,
      "outputs": [
        {
          "output_type": "stream",
          "name": "stdout",
          "text": [
            "House located at 123 Main St, priced at ₹250000.\n",
            "Mansion located at 456 Luxury Ave, priced at ₹2000000, with 10 rooms.\n"
          ]
        }
      ]
    },
    {
      "cell_type": "code",
      "source": [],
      "metadata": {
        "id": "IayLz41BkqT6"
      },
      "execution_count": 18,
      "outputs": []
    }
  ]
}